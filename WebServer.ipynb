{
 "cells": [
  {
   "cell_type": "code",
   "execution_count": 3,
   "id": "85adcae7",
   "metadata": {},
   "outputs": [],
   "source": [
    "import socket\n",
    "import cv2\n",
    "import pickle\n",
    "import struct\n"
   ]
  },
  {
   "cell_type": "code",
   "execution_count": 4,
   "id": "a045e499",
   "metadata": {},
   "outputs": [],
   "source": [
    "import imutils\n"
   ]
  },
  {
   "cell_type": "code",
   "execution_count": 5,
   "id": "93ce1c4a",
   "metadata": {},
   "outputs": [
    {
     "name": "stdout",
     "output_type": "stream",
     "text": [
      "HOST IP: 172.16.110.207\n",
      "Socket created\n",
      "Socket bind complete\n",
      "Socket now listening\n"
     ]
    }
   ],
   "source": [
    "# Server socket\n",
    "# create an INET, STREAMing socket\n",
    "server_socket = socket.socket(socket.AF_INET,socket.SOCK_STREAM)\n",
    "host_name  = socket.gethostname()\n",
    "host_ip = socket.gethostbyname(host_name)\n",
    "print('HOST IP:',host_ip)\n",
    "port = 10050\n",
    "socket_address = (host_ip,port)\n",
    "print('Socket created')\n",
    "# bind the socket to the host. \n",
    "#The values passed to bind() depend on the address family of the socket\n",
    "server_socket.bind(socket_address)\n",
    "print('Socket bind complete')\n",
    "#listen() enables a server to accept() connections\n",
    "#listen() has a backlog parameter. \n",
    "#It specifies the number of unaccepted connections that the system will allow before refusing new connections.\n",
    "server_socket.listen(5)\n",
    "print('Socket now listening')\n"
   ]
  },
  {
   "cell_type": "code",
   "execution_count": 6,
   "id": "570a3c03",
   "metadata": {},
   "outputs": [
    {
     "name": "stdout",
     "output_type": "stream",
     "text": [
      "Connection from: ('172.16.110.207', 51081)\n"
     ]
    },
    {
     "ename": "KeyboardInterrupt",
     "evalue": "",
     "output_type": "error",
     "traceback": [
      "\u001b[1;31m---------------------------------------------------------------------------\u001b[0m",
      "\u001b[1;31mKeyboardInterrupt\u001b[0m                         Traceback (most recent call last)",
      "Cell \u001b[1;32mIn [6], line 7\u001b[0m\n\u001b[0;32m      5\u001b[0m vid \u001b[38;5;241m=\u001b[39m cv2\u001b[38;5;241m.\u001b[39mVideoCapture(\u001b[38;5;241m0\u001b[39m)\n\u001b[0;32m      6\u001b[0m \u001b[38;5;28;01mwhile\u001b[39;00m(vid\u001b[38;5;241m.\u001b[39misOpened()):\n\u001b[1;32m----> 7\u001b[0m     img,frame \u001b[38;5;241m=\u001b[39m \u001b[43mvid\u001b[49m\u001b[38;5;241;43m.\u001b[39;49m\u001b[43mread\u001b[49m\u001b[43m(\u001b[49m\u001b[43m)\u001b[49m\n\u001b[0;32m      8\u001b[0m     a \u001b[38;5;241m=\u001b[39m pickle\u001b[38;5;241m.\u001b[39mdumps(frame)\n\u001b[0;32m      9\u001b[0m     message \u001b[38;5;241m=\u001b[39m struct\u001b[38;5;241m.\u001b[39mpack(\u001b[38;5;124m\"\u001b[39m\u001b[38;5;124mQ\u001b[39m\u001b[38;5;124m\"\u001b[39m,\u001b[38;5;28mlen\u001b[39m(a))\u001b[38;5;241m+\u001b[39ma\n",
      "\u001b[1;31mKeyboardInterrupt\u001b[0m: "
     ]
    }
   ],
   "source": [
    "while True:\n",
    "    client_socket,addr = server_socket.accept()\n",
    "    print('Connection from:',addr)\n",
    "    if client_socket:\n",
    "        vid = cv2.VideoCapture(0)\n",
    "        while(vid.isOpened()):\n",
    "            img,frame = vid.read()\n",
    "            a = pickle.dumps(frame)\n",
    "            message = struct.pack(\"Q\",len(a))+a\n",
    "            client_socket.sendall(message)\n",
    "            cv2.imshow('Sending...',frame)\n",
    "            key = cv2.waitKey(10) \n",
    "            if key ==13:\n",
    "                client_socket.close()"
   ]
  },
  {
   "cell_type": "code",
   "execution_count": null,
   "id": "70fcf40b",
   "metadata": {},
   "outputs": [],
   "source": []
  },
  {
   "cell_type": "code",
   "execution_count": null,
   "id": "ef5121c9",
   "metadata": {},
   "outputs": [],
   "source": []
  }
 ],
 "metadata": {
  "kernelspec": {
   "display_name": "Python 3 (ipykernel)",
   "language": "python",
   "name": "python3"
  },
  "language_info": {
   "codemirror_mode": {
    "name": "ipython",
    "version": 3
   },
   "file_extension": ".py",
   "mimetype": "text/x-python",
   "name": "python",
   "nbconvert_exporter": "python",
   "pygments_lexer": "ipython3",
   "version": "3.10.5"
  }
 },
 "nbformat": 4,
 "nbformat_minor": 5
}
